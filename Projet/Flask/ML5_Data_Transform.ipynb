{
 "cells": [
  {
   "cell_type": "markdown",
   "id": "32eb8b0f",
   "metadata": {},
   "source": [
    "###  Data Transform"
   ]
  },
  {
   "cell_type": "code",
   "execution_count": 36,
   "id": "f4916ff0",
   "metadata": {},
   "outputs": [
    {
     "name": "stdout",
     "output_type": "stream",
     "text": [
      "Originals Inputs\n",
      "--------------\n",
      "Accuracy 76.955% (2.248%)\n",
      "[[  6.    148.     72.    ...  33.6     0.627  50.   ]\n",
      " [  1.     85.     66.    ...  26.6     0.351  31.   ]\n",
      " [  8.    183.     64.    ...  23.3     0.672  32.   ]\n",
      " ...\n",
      " [  5.    121.     72.    ...  26.2     0.245  30.   ]\n",
      " [  1.    126.     60.    ...  30.1     0.349  47.   ]\n",
      " [  1.     93.     70.    ...  30.4     0.315  23.   ]]\n"
     ]
    },
    {
     "ename": "NameError",
     "evalue": "name 'tranforms' is not defined",
     "output_type": "error",
     "traceback": [
      "\u001b[1;31m---------------------------------------------------------------------------\u001b[0m",
      "\u001b[1;31mNameError\u001b[0m                                 Traceback (most recent call last)",
      "\u001b[1;32m~\\AppData\\Local\\Temp\\ipykernel_23424\\2716676297.py\u001b[0m in \u001b[0;36m<module>\u001b[1;34m\u001b[0m\n\u001b[0;32m     22\u001b[0m \u001b[0mnum_folds\u001b[0m \u001b[1;33m=\u001b[0m \u001b[1;36m7\u001b[0m\u001b[1;33m\u001b[0m\u001b[1;33m\u001b[0m\u001b[0m\n\u001b[0;32m     23\u001b[0m \u001b[0mseed\u001b[0m \u001b[1;33m=\u001b[0m \u001b[1;36m5\u001b[0m\u001b[1;33m\u001b[0m\u001b[1;33m\u001b[0m\u001b[0m\n\u001b[1;32m---> 24\u001b[1;33m \u001b[1;32mfor\u001b[0m \u001b[0mtransform_name\u001b[0m\u001b[1;33m,\u001b[0m \u001b[0mtransform\u001b[0m \u001b[1;32min\u001b[0m \u001b[0mtranforms\u001b[0m\u001b[1;33m:\u001b[0m\u001b[1;33m\u001b[0m\u001b[1;33m\u001b[0m\u001b[0m\n\u001b[0m\u001b[0;32m     25\u001b[0m     \u001b[0mscaler\u001b[0m \u001b[1;33m=\u001b[0m \u001b[0mtransform\u001b[0m\u001b[1;33m(\u001b[0m\u001b[1;33m)\u001b[0m \u001b[1;31m# each value will range 0 and 1\u001b[0m\u001b[1;33m\u001b[0m\u001b[1;33m\u001b[0m\u001b[0m\n\u001b[0;32m     26\u001b[0m     \u001b[0mrescaledX\u001b[0m \u001b[1;33m=\u001b[0m \u001b[0mscaler\u001b[0m\u001b[1;33m.\u001b[0m\u001b[0mfit_transform\u001b[0m\u001b[1;33m(\u001b[0m\u001b[0mx\u001b[0m\u001b[1;33m)\u001b[0m\u001b[1;33m\u001b[0m\u001b[1;33m\u001b[0m\u001b[0m\n",
      "\u001b[1;31mNameError\u001b[0m: name 'tranforms' is not defined"
     ]
    }
   ],
   "source": [
    "from pandas import read_csv\n",
    "filename = 'pima-indians-diabetes.data.csv'\n",
    "attributs = ['preg', 'plas', 'pres', 'skin', 'test', 'mas', 'predi', 'age', 'class']\n",
    "data = read_csv(filename, delimiter=',', names=attributs)\n",
    "transforms = []\n",
    "transforms.append(('Rescale', MinMaxScaler(feature_range = (0,1))))\n",
    "transforms.append(('Standardization', StandardScaler()))\n",
    "transforms.append(('Normalization', Normalizer()))\n",
    "transforms.append(('Binarization', Binarizer()))\n",
    "# Separate Data into input ans output componnent\n",
    "array = data.values\n",
    "x = array[ : , 0: -1]\n",
    "y = array[ : , -1]\n",
    "print('Originals Inputs\\n--------------')\n",
    "kFold = KFold(n_splits = num_folds, random_state = seed, shuffle = True)\n",
    "model = LogisticRegression(solver=\"newton-cg\")\n",
    "metric = \"accuracy\"\n",
    "results = cross_val_score(model, x, y, cv = kFold, scoring = metric)\n",
    "#print(results)\n",
    "print(\"Accuracy %.3f%% (%.3f%%)\"% (results.mean()*100, results.std()*100))\n",
    "print(x)\n",
    "num_folds = 7\n",
    "seed = 5\n",
    "for transform_name, transform in tranforms:\n",
    "    scaler = transform() # each value will range 0 and 1\n",
    "    rescaledX = scaler.fit_transform(x)\n",
    "    print('%s Transform\\n--------------'%tranform_name)\n",
    "    kFold = KFold(n_splits = num_folds, random_state = seed, shuffle = True)\n",
    "    model = LogisticRegression(solver=\"newton-cg\")\n",
    "    metric = \"accuracy\"\n",
    "    results = cross_val_score(model, x, y, cv = kFold, scoring = metric)\n",
    "    #print(results)\n",
    "    print(\"Accuracy %.3f%% (%.3f%%)\"% (results.mean()*100, results.std()*100))\n",
    "\n"
   ]
  },
  {
   "cell_type": "markdown",
   "id": "8a906a66",
   "metadata": {},
   "source": [
    "## Rescale"
   ]
  },
  {
   "cell_type": "code",
   "execution_count": 26,
   "id": "a0c2106a",
   "metadata": {},
   "outputs": [
    {
     "name": "stdout",
     "output_type": "stream",
     "text": [
      "Rescaled Inputs\n",
      "--------------\n",
      "[[0.353 0.744 0.59  ... 0.501 0.234 0.483]\n",
      " [0.059 0.427 0.541 ... 0.396 0.117 0.167]\n",
      " [0.471 0.92  0.525 ... 0.347 0.254 0.183]\n",
      " ...\n",
      " [0.294 0.608 0.59  ... 0.39  0.071 0.15 ]\n",
      " [0.059 0.633 0.492 ... 0.449 0.116 0.433]\n",
      " [0.059 0.467 0.574 ... 0.453 0.101 0.033]]\n",
      "Accuracy 76.955% (2.248%)\n"
     ]
    }
   ],
   "source": [
    "from sklearn.preprocessing import MinMaxScaler\n",
    "# Separate Data into input ans output componnent\n",
    "x = array[ : , 0: -1]\n",
    "y = array[ : , -1]\n",
    "scaler = MinMaxScaler(feature_range = (0, 1)) # each value will range 0 and 1\n",
    "rescaledX = scaler.fit_transform(x)\n",
    "\n",
    "print('Rescaled Inputs\\n--------------')\n",
    "print(rescaledX.round(3))\n",
    "num_folds = 7\n",
    "seed = 5\n",
    "kFold = KFold(n_splits = num_folds, random_state = seed, shuffle = True)\n",
    "model = LogisticRegression(solver=\"newton-cg\")\n",
    "metric = \"accuracy\"\n",
    "results = cross_val_score(model, x, y, cv = kFold, scoring = metric)\n",
    "#print(results)\n",
    "print(\"Accuracy %.3f%% (%.3f%%)\"% (results.mean()*100, results.std()*100))"
   ]
  },
  {
   "cell_type": "markdown",
   "id": "035b219f",
   "metadata": {},
   "source": [
    "### Standardization"
   ]
  },
  {
   "cell_type": "code",
   "execution_count": 28,
   "id": "40fa8377",
   "metadata": {},
   "outputs": [
    {
     "name": "stdout",
     "output_type": "stream",
     "text": [
      "Standard Inputs\n",
      "--------------\n",
      "[[ 0.64   0.848  0.15  ...  0.204  0.468  1.426]\n",
      " [-0.845 -1.123 -0.161 ... -0.684 -0.365 -0.191]\n",
      " [ 1.234  1.944 -0.264 ... -1.103  0.604 -0.106]\n",
      " ...\n",
      " [ 0.343  0.003  0.15  ... -0.735 -0.685 -0.276]\n",
      " [-0.845  0.16  -0.471 ... -0.24  -0.371  1.171]\n",
      " [-0.845 -0.873  0.046 ... -0.202 -0.474 -0.871]]\n",
      "Accuracy 77.086% (1.941%)\n"
     ]
    }
   ],
   "source": [
    "from sklearn.model_selection import KFold, cross_val_score # splitting technic\n",
    "from sklearn.linear_model import LogisticRegression # Algorithm, classifier, model\n",
    "from sklearn.preprocessing import StandardScaler\n",
    "# Separate Data into input ans output componnent\n",
    "x = array[ : , 0: -1]\n",
    "y = array[ : , -1]\n",
    "scaler = StandardScaler() # each value will range 0 and 1\n",
    "rescaledX = scaler.fit_transform(x)\n",
    "\n",
    "print('Standard Inputs\\n--------------')\n",
    "print(rescaledX.round(3))\n",
    "num_folds = 7\n",
    "seed = 5\n",
    "kFold = KFold(n_splits = num_folds, random_state = seed, shuffle = True)\n",
    "model = LogisticRegression(solver=\"newton-cg\")\n",
    "metric = \"accuracy\"\n",
    "results = cross_val_score(model, rescaledX, y, cv = kFold, scoring = metric)\n",
    "#print(results)\n",
    "print(\"Accuracy %.3f%% (%.3f%%)\"% (results.mean()*100, results.std()*100))\n"
   ]
  },
  {
   "cell_type": "markdown",
   "id": "da1988c1",
   "metadata": {},
   "source": [
    "### normalization"
   ]
  },
  {
   "cell_type": "code",
   "execution_count": 29,
   "id": "aa2d1ff3",
   "metadata": {},
   "outputs": [
    {
     "name": "stdout",
     "output_type": "stream",
     "text": [
      "Normals Inputs\n",
      "--------------\n",
      "[[0.034 0.828 0.403 ... 0.188 0.004 0.28 ]\n",
      " [0.008 0.716 0.556 ... 0.224 0.003 0.261]\n",
      " [0.04  0.924 0.323 ... 0.118 0.003 0.162]\n",
      " ...\n",
      " [0.027 0.651 0.388 ... 0.141 0.001 0.161]\n",
      " [0.007 0.838 0.399 ... 0.2   0.002 0.313]\n",
      " [0.008 0.736 0.554 ... 0.241 0.002 0.182]]\n",
      "Accuracy 64.329% (4.685%)\n"
     ]
    }
   ],
   "source": [
    "from sklearn.preprocessing import Normalizer\n",
    "\n",
    "x = array[ : , 0: -1]\n",
    "y = array[ : , -1]\n",
    "scaler = Normalizer() # each value will range 0 and 1\n",
    "rescaledX = scaler.fit_transform(x)\n",
    "\n",
    "print('Normals Inputs\\n--------------')\n",
    "print(rescaledX.round(3))\n",
    "num_folds = 7\n",
    "seed = 5\n",
    "kFold = KFold(n_splits = num_folds, random_state = seed, shuffle = True)\n",
    "model = LogisticRegression(solver=\"newton-cg\")\n",
    "metric = \"accuracy\"\n",
    "results = cross_val_score(model, rescaledX, y, cv = kFold, scoring = metric)\n",
    "#print(results)\n",
    "print(\"Accuracy %.3f%% (%.3f%%)\"% (results.mean()*100, results.std()*100))"
   ]
  },
  {
   "cell_type": "markdown",
   "id": "1dd6ff2f",
   "metadata": {},
   "source": [
    "### Binarrization"
   ]
  },
  {
   "cell_type": "code",
   "execution_count": 30,
   "id": "edd138a3",
   "metadata": {},
   "outputs": [
    {
     "name": "stdout",
     "output_type": "stream",
     "text": [
      "binars Inputs\n",
      "--------------\n",
      "[[1. 1. 1. ... 1. 1. 1.]\n",
      " [1. 1. 1. ... 1. 1. 1.]\n",
      " [1. 1. 1. ... 1. 1. 1.]\n",
      " ...\n",
      " [1. 1. 1. ... 1. 1. 1.]\n",
      " [1. 1. 1. ... 1. 1. 1.]\n",
      " [1. 1. 1. ... 1. 1. 1.]]\n",
      "Accuracy 64.587% (5.272%)\n"
     ]
    }
   ],
   "source": [
    "from sklearn.preprocessing import Binarizer\n",
    "# Separate Data into input ans output componnent\n",
    "x = array[ : , 0: -1]\n",
    "y = array[ : , -1]\n",
    "scaler = Binarizer(threshold = 0.0) # each value will range 0 and 1\n",
    "rescaledX = scaler.fit_transform(x)\n",
    "\n",
    "print('binars Inputs\\n--------------')\n",
    "print(rescaledX.round(3))\n",
    "num_folds = 7\n",
    "seed = 5\n",
    "kFold = KFold(n_splits = num_folds, random_state = seed, shuffle = True)\n",
    "model = LogisticRegression(solver=\"newton-cg\")\n",
    "metric = \"accuracy\"\n",
    "results = cross_val_score(model, rescaledX, y, cv = kFold, scoring = metric)\n",
    "#print(results)\n",
    "print(\"Accuracy %.3f%% (%.3f%%)\"% (results.mean()*100, results.std()*100))"
   ]
  },
  {
   "cell_type": "code",
   "execution_count": null,
   "id": "2c72403a",
   "metadata": {},
   "outputs": [],
   "source": [
    "\n"
   ]
  },
  {
   "cell_type": "code",
   "execution_count": null,
   "id": "a49d67db",
   "metadata": {},
   "outputs": [],
   "source": []
  }
 ],
 "metadata": {
  "kernelspec": {
   "display_name": "Python 3 (ipykernel)",
   "language": "python",
   "name": "python3"
  },
  "language_info": {
   "codemirror_mode": {
    "name": "ipython",
    "version": 3
   },
   "file_extension": ".py",
   "mimetype": "text/x-python",
   "name": "python",
   "nbconvert_exporter": "python",
   "pygments_lexer": "ipython3",
   "version": "3.9.13"
  }
 },
 "nbformat": 4,
 "nbformat_minor": 5
}
